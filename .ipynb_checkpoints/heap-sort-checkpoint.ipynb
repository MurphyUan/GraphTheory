{
 "cells": [
  {
   "cell_type": "code",
   "execution_count": 2,
   "id": "c06071a7",
   "metadata": {},
   "outputs": [],
   "source": [
    "## Explanantion of the Heap Sort Algorithm"
   ]
  },
  {
   "cell_type": "markdown",
   "id": "38467f20",
   "metadata": {},
   "source": [
    "The Heap Sort Algorithm is a comparative sorting technique, where we take an *array* of information we want to stored \n",
    "and we sort based on *min-max* values of said array. To do this we will first want to arrange our array as a Binary Heap Tree\n",
    "\n",
    "For Demonstration purposes our array will be : 4 8 6 7 3 1\n",
    "    \n",
    "As a **Binary Heap Tree (BHP)** of the array looks like the following:\n",
    "\n",
    "       4(0)\n",
    "     /     \\\n",
    "   8(1)    6(2)\n",
    "  /     \\     \\   \n",
    "7(3)   3(4)   1(5)\n",
    "\n",
    "Now to Heap Sort this **BHP** we want to first get the max-heap of this array. What do I mean by this, I want the array so \n",
    "that its parent node is *greater than* its subsequent child nodes, Like the following:\n",
    "    \n",
    "       8(0)\n",
    "     /     \\\n",
    "   7(1)    6(2)\n",
    "  /     \\     \\   \n",
    "4(3)   3(4)   1(5)\n",
    "\n",
    "To do this we recursively compare the child node to its parent and we swap the nodes if the child is greater than the parent.\n",
    "If there is any change in the parent nodes than we perform the action again from the beginning\n",
    " "
   ]
  },
  {
   "cell_type": "code",
   "execution_count": null,
   "id": "a2a1c949",
   "metadata": {},
   "outputs": [],
   "source": []
  }
 ],
 "metadata": {
  "kernelspec": {
   "display_name": "Python 3 (ipykernel)",
   "language": "python",
   "name": "python3"
  },
  "language_info": {
   "codemirror_mode": {
    "name": "ipython",
    "version": 3
   },
   "file_extension": ".py",
   "mimetype": "text/x-python",
   "name": "python",
   "nbconvert_exporter": "python",
   "pygments_lexer": "ipython3",
   "version": "3.9.7"
  }
 },
 "nbformat": 4,
 "nbformat_minor": 5
}
