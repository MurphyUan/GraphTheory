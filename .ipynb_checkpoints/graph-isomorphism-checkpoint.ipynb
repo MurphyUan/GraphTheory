{
 "cells": [
  {
   "cell_type": "markdown",
   "id": "476fa534",
   "metadata": {},
   "source": [
    "## Explanation of the Graph Isomorphism Problem\n",
    "***"
   ]
  },
  {
   "cell_type": "markdown",
   "id": "c8ded2b5",
   "metadata": {},
   "source": [
    "The Graph Isomorphism Problem determines whether two finite graphs are isomorphic. When two graphs are isomorphic the sets of elements are identical. This requires that are no unpaired elements in either set, this is known as a Surjective property, and that elements from one Graph are not paired with the same element, this is known as an Injective property. When these properties are combined it is called a Bijective property.\n",
    "\n",
    "Take the Graphs G & H, G has elements $1$, $2$, $3$ and H has elements $A$, $B$ and $C$. These Graphs look as follows: "
   ]
  },
  {
   "cell_type": "markdown",
   "id": "6dcafd04",
   "metadata": {},
   "source": [
    "```\n",
    "                                            Graph G             Graph H\n",
    "                                                        \n",
    "                                                        |        A\n",
    "                                                        |      /\n",
    "                                       1 --- 2 --- 3    |    B\n",
    "                                                        |      \\\n",
    "                                                        |        C\n",
    "```"
   ]
  },
  {
   "cell_type": "markdown",
   "id": "8f483b76",
   "metadata": {},
   "source": [
    "Now you wouldn't say they are identical as the elements have different naming schemes and they are both shaped differently. However, These Graphs would be Isomorphisc , this is because if we matched each node with its corresponding pair they would be somewhat that same, in the sense that the number of nodes and edges would be equal and the connected nodes from those edges would be equal as well. Both nodes $2$ and $B$ have two neighbours $2$ has $1$ and $3$, while $B$ has $A$ and $C$. "
   ]
  },
  {
   "cell_type": "markdown",
   "id": "d392c024",
   "metadata": {},
   "source": [
    "## How Graphs can be represented in data structures\n",
    "***"
   ]
  },
  {
   "cell_type": "markdown",
   "id": "64f9bb0c",
   "metadata": {},
   "source": [
    "Graphs can be represented using 3 main data structures: **adjacency matrixes, lists and sets**. "
   ]
  },
  {
   "cell_type": "markdown",
   "id": "47d17ac1",
   "metadata": {},
   "source": [
    "A **matrix** is a table with rows and columns, in an **adjacency matrix** is a square matrix where the number of rows, columns and nodes are equal where each row and column represents a single node. Each cell of this matrix represents an edge between two nodes, or in some cases itself."
   ]
  },
  {
   "cell_type": "markdown",
   "id": "a0e0ebb4",
   "metadata": {},
   "source": [
    "```\n",
    "                                                     A B C D\n",
    "                                                   A 0 0 1 1\n",
    "                                                   B 0 0 1 1\n",
    "                                                   C 1 1 0 0\n",
    "                                                   D 1 1 0 0\n",
    "```"
   ]
  },
  {
   "cell_type": "markdown",
   "id": "8e8ec1eb",
   "metadata": {},
   "source": [
    "A **list** is an ordered collection of elements, in an **adjacency list** each element references a node, the node either contains data or a reference to a linked list, this linked list shows all adjacent nodes to the current node."
   ]
  },
  {
   "cell_type": "markdown",
   "id": "ee1d7dcd",
   "metadata": {},
   "source": [
    "```\n",
    "                                                    A -> C -> D\n",
    "                                                    B -> C -> D\n",
    "                                                    C -> A -> B\n",
    "                                                    D -> A -> B\n",
    "```"
   ]
  },
  {
   "cell_type": "markdown",
   "id": "58a7b9ca",
   "metadata": {},
   "source": [
    "A **Set** is an unordered collection of unique elements, an **adjacency set** is fairly similar to an **adjacency list** however, instead of a linked list; a set of adjacent nodes is provided."
   ]
  },
  {
   "cell_type": "markdown",
   "id": "eb86e925",
   "metadata": {},
   "source": [
    "```\n",
    "                                            {A:(C,D),B:(C,D),C:(A,B),D:(A,B)}\n",
    "```"
   ]
  },
  {
   "cell_type": "markdown",
   "id": "34a99ff2",
   "metadata": {},
   "source": [
    "## Implementation of Graph Isomorphism Between two Graphs\n",
    "***"
   ]
  },
  {
   "cell_type": "code",
   "execution_count": 3,
   "id": "b8b9a60c",
   "metadata": {},
   "outputs": [],
   "source": [
    "# Import Libraries\n",
    "import networkx as nx\n",
    "import numpy as np\n",
    "import matplotlib as plt\n",
    "import itertools as it"
   ]
  },
  {
   "cell_type": "code",
   "execution_count": 2,
   "id": "014b828a",
   "metadata": {},
   "outputs": [],
   "source": [
    "def convertGraph(G): # converts graph element to adjancency matrix\n",
    "    return nx.to_numpy_array(G).astype(np.uint8)"
   ]
  },
  {
   "cell_type": "code",
   "execution_count": 23,
   "id": "35f1270f",
   "metadata": {},
   "outputs": [],
   "source": [
    "class Check(object): # Check Class\n",
    "    def __init__(self, G1, G2): # Constructor\n",
    "        # local storage of graphs\n",
    "        self.G1 = G1\n",
    "        self.G2 = G2\n",
    "        # get the length of nodes in graph 1\n",
    "        self.n = G1.number_of_nodes()\n",
    "        # checks if length of nodes in graphs are equal\n",
    "        assert self.n == G2.number_of_nodes() \n",
    "    \n",
    "        # adjacency matrices of graphs\n",
    "        self.M1 = convertGraph(G1)\n",
    "        self.M2 = convertGraph(G2)\n",
    "    \n",
    "    def generatePermutations(self): # Generates all permutations for range(length of nodes)\n",
    "        self.perms = it.permutations(range(self.n)) # local storage of permutation list\n",
    "        \n",
    "    def is_isomorphic(self): # main driver\n",
    "        Identity = np.identity(self.n, dtype=np.uint8) # identity matrix of size n\n",
    "        for p in self.perms: # for all permutations of Graph 2\n",
    "            Pmat = Identity[list(p)] # Permutation Matrix\n",
    "            if np.all(self.M1 == self.M2 @ Pmat): # Graph1 is equal to Graph2 with Permutation, return true\n",
    "                return True\n",
    "        return False # exhausted list of permutations, graphs are not equal, return false"
   ]
  },
  {
   "cell_type": "code",
   "execution_count": 24,
   "id": "5863301d",
   "metadata": {},
   "outputs": [
    {
     "name": "stdout",
     "output_type": "stream",
     "text": [
      "False\n",
      "True\n"
     ]
    }
   ],
   "source": [
    "G1 = nx.Graph()\n",
    "G2 = nx.Graph()\n",
    "Set1 = ((0,1),(1,2),(1,3),(2,3))\n",
    "Set2 = ((0,1),(0,2),(1,3),(2,3))\n",
    "G1.add_edges_from(Set1)\n",
    "G2.add_edges_from(Set2)\n",
    "\n",
    "c = Check(G1, G2)\n",
    "c.generatePermutations()\n",
    "print(c.is_isomorphic())\n",
    "\n",
    "G2 = nx.Graph()\n",
    "G2.add_edges_from(Set1)\n",
    "c = Check(G1, G2)\n",
    "c.generatePermutations()\n",
    "print(c.is_isomorphic())"
   ]
  },
  {
   "cell_type": "markdown",
   "id": "0d74fb95",
   "metadata": {},
   "source": [
    "## Computation Complexity of Graph Isomorphism Problem\n",
    "***"
   ]
  },
  {
   "cell_type": "markdown",
   "id": "c7c700d9",
   "metadata": {},
   "source": [
    "Computation complexity is the *standard* for measuring the *requirements of an algorithm* in computer science, the key aspects of measuring the requirements are **time and space**. **Time** refering to the time taken for the algorithm to fully complete, and **space** meaning both the resources to complete the algorithm (CPU Time) and the memory need for storage. \n",
    "\n",
    "Although it sounds very complex its very simple, we take the worst case scenario for the elements required to run the algorithm and generalise everything in terms of $N$ the size of our input. In this case we will use **Big O Notation** to measure the computation complexity.\n",
    "\n",
    "The Graph Isomorphism Implementation outlined above has running time $N!$, this is factorial time. As the length of our nodes increase, the time to look through all permutations of our second graph rises with factorial time. Meaning if I have 5 nodes the worst possible number of searches through all the nodes is: $$5 \\times 4 \\times 3 \\times 2 \\times 1 = 120$$\n",
    "\n",
    "There are forums all over the internet stating that you can check for isomorphisms in polynomial time $n^y$, $y$ being a constant and not scaled with $n$. However, a lot of these claims are for specific conditions like the graphs being trivalent, meaning they loop on some nodes. "
   ]
  },
  {
   "cell_type": "markdown",
   "id": "da50e3c4",
   "metadata": {},
   "source": [
    "## Further Research"
   ]
  },
  {
   "cell_type": "markdown",
   "id": "b67d11fe",
   "metadata": {},
   "source": [
    " - https://link.springer.com/content/pdf/10.1007/BF02104746.pdf (Combo Article by Zemlyachenko)\n",
    " - https://en.wikipedia.org/wiki/Graph_isomorphism_problem (Wiki Article)\n",
    " - https://www.youtube.com/watch?v=EwV4Puk2coU (Isomorphic graphs by Wrath of Math)\n",
    " - https://www.mygreatlearning.com/blog/representing-graphs-in-data-structures/#:~:text=A%20graph%20can%20be%20represented,the%20nodes%20of%20a%20graph. (Representing Graphs)\n",
    " - https://learnonline.gmit.ie/pluginfile.php/602802/mod_resource/content/1/sipser-math.pdf (Introduction to the Theory of Computing)\n",
    " - https://jeremykun.com/2016/07/05/zero-knowledge-proofs-a-primer/ (Zero-Knowledge Proof)\n",
    " - https://math.stackexchange.com/questions/3701135/graph-isomorphism-in-polynomial-time (Polynomial Time)"
   ]
  },
  {
   "cell_type": "code",
   "execution_count": null,
   "id": "ca182eab",
   "metadata": {},
   "outputs": [],
   "source": []
  }
 ],
 "metadata": {
  "kernelspec": {
   "display_name": "Python 3 (ipykernel)",
   "language": "python",
   "name": "python3"
  },
  "language_info": {
   "codemirror_mode": {
    "name": "ipython",
    "version": 3
   },
   "file_extension": ".py",
   "mimetype": "text/x-python",
   "name": "python",
   "nbconvert_exporter": "python",
   "pygments_lexer": "ipython3",
   "version": "3.9.7"
  }
 },
 "nbformat": 4,
 "nbformat_minor": 5
}
