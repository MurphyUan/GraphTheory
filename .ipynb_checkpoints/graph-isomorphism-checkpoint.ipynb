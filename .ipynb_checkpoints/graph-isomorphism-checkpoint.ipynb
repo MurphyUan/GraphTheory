{
 "cells": [
  {
   "cell_type": "markdown",
   "id": "476fa534",
   "metadata": {},
   "source": [
    "## Explanation of the Graph Isomorphism Problem\n",
    "***"
   ]
  },
  {
   "cell_type": "markdown",
   "id": "c8ded2b5",
   "metadata": {},
   "source": [
    "The Graph Isomorphism Problem determines whether two finite graphs are isomorphic. When two graphs are isomorphic it means that the sets of elements are identical, also refered to as a bijection. This also requires that are no unpaired elements in either set. "
   ]
  },
  {
   "cell_type": "code",
   "execution_count": 6,
   "id": "c2dcbf9d",
   "metadata": {},
   "outputs": [
    {
     "data": {
      "image/png": "[encoded data removed]",
      "text/plain": [
       "<Figure size 432x432 with 1 Axes>"
      ]
     },
     "metadata": {},
     "output_type": "display_data"
    }
   ],
   "source": [
    "import matplotlib.pyplot as plt\n",
    "plt.rcParams['figure.figsize'] = (6, 6)\n",
    "import numpy as np\n",
    "import itertools as it\n",
    "import networkx as nx\n",
    "import math\n",
    "\n",
    "params = {'node_color': 'orange', 'node_size':400, 'font_size':9, 'with_labels': True}\n",
    "\n",
    "Graph = nx.Graph()#empty graph\n",
    "Set = ((0,1),(1,2),(0,2),(1,2),(0,3))\n",
    "Graph.add_edges_from(Set)\n",
    "nx.draw_circular(Graph, **params)"
   ]
  },
  {
   "cell_type": "markdown",
   "id": "d392c024",
   "metadata": {},
   "source": [
    "## How Graphs can be represented in data structures\n",
    "***"
   ]
  },
  {
   "cell_type": "markdown",
   "id": "47d17ac1",
   "metadata": {},
   "source": [
    "###### What is a Graph ?\n",
    "A Graph is a **collection of nodes and edges between each node**. In this Project we will talk about graphs mostly as **finite nondirected** graphs without *loops* and more than three edges. "
   ]
  },
  {
   "cell_type": "markdown",
   "id": "34a99ff2",
   "metadata": {},
   "source": [
    "## Implementation of Graph Isomorphism Between two Graphs\n",
    "***"
   ]
  },
  {
   "cell_type": "code",
   "execution_count": null,
   "id": "09c339dc",
   "metadata": {},
   "outputs": [],
   "source": []
  },
  {
   "cell_type": "markdown",
   "id": "0d74fb95",
   "metadata": {},
   "source": [
    "## Computation Complexity of Graph Isomorphism Problem\n",
    "***"
   ]
  },
  {
   "cell_type": "code",
   "execution_count": null,
   "id": "7246e200",
   "metadata": {},
   "outputs": [],
   "source": []
  },
  {
   "cell_type": "markdown",
   "id": "da50e3c4",
   "metadata": {},
   "source": [
    "## Further Research"
   ]
  },
  {
   "cell_type": "markdown",
   "id": "b67d11fe",
   "metadata": {},
   "source": [
    " - https://link.springer.com/content/pdf/10.1007/BF02104746.pdf\n",
    " - https://en.wikipedia.org/wiki/Graph_isomorphism_problem"
   ]
  }
 ],
 "metadata": {
  "kernelspec": {
   "display_name": "Python 3 (ipykernel)",
   "language": "python",
   "name": "python3"
  },
  "language_info": {
   "codemirror_mode": {
    "name": "ipython",
    "version": 3
   },
   "file_extension": ".py",
   "mimetype": "text/x-python",
   "name": "python",
   "nbconvert_exporter": "python",
   "pygments_lexer": "ipython3",
   "version": "3.9.7"
  }
 },
 "nbformat": 4,
 "nbformat_minor": 5
}
