{
 "cells": [
  {
   "cell_type": "markdown",
   "id": "295af8b6",
   "metadata": {},
   "source": [
    "## Explanantion of the Heap Sort Algorithm"
   ]
  },
  {
   "cell_type": "markdown",
   "id": "389583c8",
   "metadata": {},
   "source": [
    "The **HeapSort** algorithm is a *comparative sorting technique*, This algorithm uses **heaps** which is a *specialized tree-based data structure*. These trees must satisfy a *heap property* such as **max-heap** or **min-heap**. The node at the *beginning of the heap* (has no parent) is called the **root node**. \n",
    "\n",
    "##### What is a max-heap?\n",
    "In a **max-heap** for any given node B, which has a \n",
    "parent A, then the value of A must be greater than or equal to value of B.\n",
    "\n",
    "##### What is a min-heap?\n",
    "The opposite can be said for a **min-heap** where the value of parent A must be less than or equal to the value of child B. \n",
    "\n",
    "##### What is the importance of a root node? \n",
    "This node is the first node in the sequence of the array. This will be our main location for sorting the array\n",
    "\n",
    "##### Why are heaps used in the heapsort algorithm?\n",
    "\n",
    "The implentation of *heaps* used inside our HeapSort alrgorithm will be the **binary-heap**. This adds an extra important rule to our tree structure which allows a parent node to only have **2 direct children**, This makes the tree structure more predictable and helps with computation.\n",
    "\n",
    "##### What does a Binary-Heap look like?\n",
    "\n",
    "For Demonstration purposes we will take the following array and convert it into a **binary-heap**: *4 8 6 7 3 1*, \n",
    "Our heap strucuture will look like the following:\n",
    "```\n",
    "        no-heap                 max-heap                min-heap\n",
    "           4           |           8           |           1\n",
    "          / \\          |          / \\          |          / \\\n",
    "         8   6         |         7   6         |         4   3\n",
    "        / \\   \\        |        / \\   \\        |        / \\   \\\n",
    "       7   3   1       |       4   3   1       |       8   7   6\n",
    "```\n",
    "\n",
    "##### How does this Heap-Sort actually work\n",
    "\n",
    "A heap-sort is performed as follows we get an array of n length, we get each parent node of the array and we check to see if one of its children is greater than itself, if neither child is greater than the parent then no change should be made. However, when a change should be made we swap the child with the parent and then the parents new children to see if a change needs to be made, this process is called **heapify**. When no more changes can be made we have converted our array into a **max-heap**, we then take this max-heap and we swap the last node with the first node, after this reduce the alterable size of the array by 1. We then repeat the last two steps until we are left alterable spaces.\n",
    "\n",
    "> 1. Get Array Length $N$\n",
    "> 2. Find Last Parent Node in Array\n",
    "> 3. Compare Parent Node with Children\n",
    ">   * Check if first child is greater than parent\n",
    ">       * Make Swap\n",
    ">   * Check if second child is greater than parent\n",
    ">       * Make Swap\n",
    ">   * If no changes were made continue else repeat\n",
    "> 4. Move to Next Node\n",
    "> 5. Repeat Steps 3, 4 until we exhaust all parents\n",
    "> 6. Swap first and last node\n",
    "> 7. Reduce alterable size of array by 1\n",
    "> 8. Repeat Steps 3 (Head Node), 6, 7 until there \n",
    ">are no alterable spaces remaining\n",
    "\n",
    "       \n",
    "##### How do we know the children of each node\n",
    "\n",
    "As arrays they both look like the following \n",
    "\n",
    "```\n",
    "    no-heap = [4, 8, 6, 7, 3, 1]\n",
    "    max-heap = [8, 7, 6, 4, 3, 1]\n",
    "    min-heap = [1, 4, 3, 8, 7, 6]\n",
    "```\n",
    "\n",
    "In most if not all programming languages arrays store nodes with a location and a value, for example in our max-heap array the node 8 will have 0 as its location as its the head node. In order to find the children of the parent nodes we use these equations\n",
    "\n",
    "$$c_1 = 2 cx + 1$$\n",
    "$$c_2 = 2 cx + 2$$\n",
    " \n",
    "Where $c_1$ and $c_2$ are the locations of the two children and $cx$ is the location of the parent node. As you can see we are multiplying the parent node location by two. This is because of our binary-heap, we only ever want a parent to have at maximum 2 children, this will mostly result in two paths from any parent node. \n",
    "\n",
    "For Reference if wanted to see the 1st child of the parent node 7 its location is 1 so we say the following $$c_1 = 2 (1) + 1$$ $$c_1 = 2 + 1$$ $$c_1 = 3$$ Which if we look above the value at $c1 = 3$ is $4$ which is correct in our **max-heap binary-tree** in the previous question. \n",
    "\n",
    "###### How do I find only the parent nodes ?\n",
    "That is an amazing question, in order to find only the parent nodes we are gonna do some math wizardry. The answer stems from our general understanding of *binary-trees* each node can have 0, 1 or 2 child(ren). However two nodes must be assigned to each parent node of the current row before we create another row of nodes. If you look at the following example:\n",
    "\n",
    "![Trees.png](https://github.com/MurphyUan/GraphTheory/blob/main/HeapSortImages/Trees.png \"Example\")\n",
    "\n",
    "You can see that we arent truly assigning each parent node children, its more they fall into place until they are sorted. As we add new nodes to the array they will fill up each row twice the number of the last. 1, 2, 4, 8, 16 .... \n",
    "\n",
    "So lets say we had an array of 85 elements and we wanted to find the last parent node what would we do, if each sequent row is double the amount of the last cant we say that if we halved the total number or nodes that we should end up on the last parent node that is almost correct, because we start with 1 node and that nodes location is zero we also need to subtract our result by one to reflect the position, but wait the total number of elements is an odd number this which will leave a remainder. Easy just get rid of the remainder we are only looking for whole numbers. The Equation to Reflect this is simply:\n",
    "\n",
    "$${x} = ⌊ \\frac{n}{2} ⌋ - 1$$\n",
    "\n",
    "$x$ is the location of the last parent node, $n$ is the total number of nodes and $⌊ ⌋$ removes the remainder from $\\frac{n}{2}$."
   ]
  },
  {
   "cell_type": "markdown",
   "id": "7021e240",
   "metadata": {},
   "source": [
    "## Python Implementation of Heap Sort"
   ]
  },
  {
   "cell_type": "code",
   "execution_count": 1,
   "id": "b00e4908",
   "metadata": {},
   "outputs": [],
   "source": [
    "## Compare Children of Node And Make Swaps Where Necessary, repeats until no changes can be made\n",
    "## Heapify(Array to be sorted, length of the Array, location of Head node) - Max Heap\n",
    "def Heapify(array, length, location):\n",
    "    head = location\n",
    "    firstChild = 2 * location + 1 # Left Child of Head\n",
    "    secondChild = 2 * location + 2 # Right Child of Head\n",
    "    \n",
    "    # If Left Child is within array and is greater than Head node\n",
    "    if firstChild < length and arr[head] < arr[firstChild]:\n",
    "        # Declare Child as Head\n",
    "        head = firstChild\n",
    "    \n",
    "    # If Right Child is within array and is greater than Head node\n",
    "    if secondChild < length and arr[head] < arr[secondChild]:\n",
    "        # Declare Child as Head\n",
    "        head = secondChild\n",
    "    \n",
    "    # If Head has changed swap saved head with new head\n",
    "    if head != location:\n",
    "        array[location], array[head] = array[head], array[location]\n",
    "        \n",
    "        # Recursion, 'Do it Again'\n",
    "        Heapify(array, length, head)"
   ]
  },
  {
   "cell_type": "code",
   "execution_count": null,
   "id": "ed6ab63f",
   "metadata": {},
   "outputs": [],
   "source": []
  },
  {
   "cell_type": "code",
   "execution_count": 2,
   "id": "150e5aeb",
   "metadata": {},
   "outputs": [
    {
     "name": "stdout",
     "output_type": "stream",
     "text": [
      "Please Input Integers:\n",
      "4 7 8 3 1 6\n"
     ]
    },
    {
     "ename": "NameError",
     "evalue": "name 'HeapSort' is not defined",
     "output_type": "error",
     "traceback": [
      "\u001b[1;31m---------------------------------------------------------------------------\u001b[0m",
      "\u001b[1;31mNameError\u001b[0m                                 Traceback (most recent call last)",
      "\u001b[1;32m~\\AppData\\Local\\Temp/ipykernel_10592/3065206175.py\u001b[0m in \u001b[0;36m<module>\u001b[1;34m\u001b[0m\n\u001b[0;32m      9\u001b[0m \u001b[1;33m\u001b[0m\u001b[0m\n\u001b[0;32m     10\u001b[0m \u001b[1;31m# Perform Heap Sort on Array\u001b[0m\u001b[1;33m\u001b[0m\u001b[1;33m\u001b[0m\u001b[0m\n\u001b[1;32m---> 11\u001b[1;33m \u001b[0mHeapSort\u001b[0m\u001b[1;33m(\u001b[0m\u001b[0marr\u001b[0m\u001b[1;33m)\u001b[0m\u001b[1;33m\u001b[0m\u001b[1;33m\u001b[0m\u001b[0m\n\u001b[0m\u001b[0;32m     12\u001b[0m \u001b[1;33m\u001b[0m\u001b[0m\n\u001b[0;32m     13\u001b[0m \u001b[1;31m# Print Sorted Array\u001b[0m\u001b[1;33m\u001b[0m\u001b[1;33m\u001b[0m\u001b[0m\n",
      "\u001b[1;31mNameError\u001b[0m: name 'HeapSort' is not defined"
     ]
    }
   ],
   "source": [
    "## Uses Max-Heap to Sort Array\n",
    "def HeapSort(array):\n",
    "    length = len(array)\n",
    "    \n",
    "    # Perform Heapify to Make Max-Heap\n",
    "    # Range(Floored Half of Length, min value is -1, decrements by -1)\n",
    "    for i in range(length//2 - 1, -1, -1):\n",
    "        Heapify(array, length, i)\n",
    "    \n",
    "    # Range(Length -1, min value is 0, decrements by -1)\n",
    "    for i in range(length - 1, 0, -1):\n",
    "        array[i], array[0] = array[0], array[i] # push start of array to the end of array\n",
    "        \n",
    "        Heapify(array, i, 0) # resort start of array\n",
    "\n",
    "## Variable Input\n",
    "print(\"Please Input Integers:\")\n",
    "arr = input().split(\" \")\n",
    "n = len(arr)\n",
    "\n",
    "# Convert Array<String> to Array<Int>\n",
    "for i in range(n):\n",
    "    arr[i] = int(arr[i])\n",
    "\n",
    "# Perform Heap Sort on Array\n",
    "HeapSort(arr)\n",
    "\n",
    "# Print Sorted Array\n",
    "print(\"\\n\\nSorted array is:\")\n",
    "for i in range(n):\n",
    "    print(\"%d\" % arr[i], end=\" \")"
   ]
  },
  {
   "cell_type": "markdown",
   "id": "394efc33",
   "metadata": {},
   "source": [
    "## Computational Complexity of Heap Sort"
   ]
  },
  {
   "cell_type": "code",
   "execution_count": null,
   "id": "cd65cbd6",
   "metadata": {},
   "outputs": [],
   "source": [
    "What we mean by computational complexity"
   ]
  }
 ],
 "metadata": {
  "kernelspec": {
   "display_name": "Python 3 (ipykernel)",
   "language": "python",
   "name": "python3"
  },
  "language_info": {
   "codemirror_mode": {
    "name": "ipython",
    "version": 3
   },
   "file_extension": ".py",
   "mimetype": "text/x-python",
   "name": "python",
   "nbconvert_exporter": "python",
   "pygments_lexer": "ipython3",
   "version": "3.9.7"
  }
 },
 "nbformat": 4,
 "nbformat_minor": 5
}
