{
 "cells": [
  {
   "cell_type": "markdown",
   "id": "295af8b6",
   "metadata": {},
   "source": [
    "## Explanantion of the Heap Sort Algorithm"
   ]
  },
  {
   "cell_type": "markdown",
   "id": "389583c8",
   "metadata": {},
   "source": [
    "The **HeapSort** algorithm is a *comparative sorting technique*, This algorithm uses **heaps** which is a *specialized tree-based data structure*. These trees must satisfy a *heap property* such as **max-heap** or **min-heap**. The node at the *beginning of the heap* (has no parent) is called the **root node**. \n",
    "\n",
    "##### What is a max-heap?\n",
    "In a **max-heap** for any given node B, which has a \n",
    "parent A, then the value of A must be greater than or equal to value of B.\n",
    "\n",
    "##### What is a min-heap?\n",
    "The opposite can be said for a **min-heap** where the value of parent A must be less than or equal to the value of child B. \n",
    "\n",
    "##### What is the importance of a root node? \n",
    "This node is the first node in the sequence of the array. This will be our main location for sorting the array\n",
    "\n",
    "##### Why are heaps used in the heapsort algorithm?\n",
    "\n",
    "\n",
    "\n",
    "The implentation of *heaps* used inside our HeapSort alrgorithm will be the **binary-heap**. This adds an extra important rule to our tree structure which only allows a parent to have **2 direct children**, This will help incredbily when implementing the heapsort algorithm in python.\n",
    "\n",
    "##### What does a Binary-Heap look like?\n",
    "\n",
    "For Demonstration purposes we will take the following array and convert it into a **binary-heap**: *4 8 6 7 3 1*, \n",
    "Our heap strucuture will look like the following:\n",
    "```\n",
    "        no-heap                 max-heap                min-heap\n",
    "           4           |           8           |           1\n",
    "          / \\          |          / \\          |          / \\\n",
    "         8   6         |         7   6         |         4   3\n",
    "        / \\   \\        |        / \\   \\        |        / \\   \\\n",
    "       7   3   1       |       4   3   1       |       8   7   6\n",
    "```\n",
    "       \n",
    "##### How do we know the children of each node\n",
    "\n",
    "As arrays they both look like the following \n",
    "\n",
    "```\n",
    "    no-heap = [4, 8, 6, 7, 3, 1]\n",
    "    max-heap = [8, 7, 6, 4, 3, 1]\n",
    "    min-heap = [1, 4, 3, 8, 7, 6]\n",
    "```\n",
    "\n",
    "In most if not all programming languages arrays store nodes with a location and a value, for example in max-heap the node 8 will have 0 as its location as its the head node. In order to find the children of the parent nodes we use these equations\n",
    "\n",
    "$$c_1 = 2 cx + 1$$\n",
    "$$c_2 = 2 cx + 2$$\n",
    " \n",
    "Where $c_1$ and $c_2$ are the locations of the two children and $cx$ is the location of the parent node. As you can see we are multiplying the parent node location by two. This is because of our binary-heap, we only ever want a parent to have at maximum 2 children, this will mostly result in two paths from any parent node. \n",
    "\n",
    "For Reference if wanted to see the 1st child of the parent node 7 its location is 1 so we say the following $$c_1 = 2 (1) + 1$$ $$c_1 = 2 + 1$$ $$c_1 = 3$$ Which if we look above the value at $c1 = 3$ is $4$ which is correct in our **max-heap binary-tree** in the previous question. \n",
    "\n",
    "###### Question: How do I find only the parent nodes ?\n",
    "That is an amazing question, in order to find only the parent nodes we are gonna do some math wizardry. The answer stems from our general understanding of *binary-trees* each node can have 0, 1 or 2 child(ren). However two nodes must be assigned to each parent node of the current row before we create another row of nodes. If you look at the following example:\n",
    "\n",
    "```\n",
    "\n",
    "```"
   ]
  },
  {
   "cell_type": "markdown",
   "id": "7021e240",
   "metadata": {},
   "source": [
    "## Python Implementation of Heap Sort"
   ]
  },
  {
   "cell_type": "code",
   "execution_count": 3,
   "id": "b00e4908",
   "metadata": {},
   "outputs": [
    {
     "name": "stdout",
     "output_type": "stream",
     "text": [
      "Please Input Integers:\n",
      "8 7 6 4 3 1\n",
      "\n",
      "\n",
      "Sorted array is:\n",
      "1 3 4 6 7 8 "
     ]
    }
   ],
   "source": [
    "## Compare Children of Node And Make Swaps Where Necessary, repeats until no changes can be made\n",
    "## Heapify(Array to be sorted, length of the Array, location of Head node) - Max Heap\n",
    "def Heapify(array, length, location):\n",
    "    head = location\n",
    "    firstChild = 2 * location + 1 # Left Child of Head\n",
    "    secondChild = 2 * location + 2 # Right Child of Head\n",
    "    \n",
    "    # If Left Child is within array and is greater than Head node\n",
    "    if firstChild < length and arr[head] < arr[firstChild]:\n",
    "        # Declare Child as Head\n",
    "        head = firstChild\n",
    "    \n",
    "    # If Right Child is within array and is greater than Head node\n",
    "    if secondChild < length and arr[head] < arr[secondChild]:\n",
    "        # Declare Child as Head\n",
    "        head = secondChild\n",
    "    \n",
    "    # If Head has changed swap saved head with new head\n",
    "    if head != location:\n",
    "        array[location], array[head] = array[head], array[location]\n",
    "        \n",
    "        # Recursion, 'Do it Again'\n",
    "        Heapify(array, length, head)\n",
    "\n",
    "## Uses Max-Heap to Sort Array\n",
    "def HeapSort(array):\n",
    "    length = len(array)\n",
    "    \n",
    "    # Perform Heapify to Make Max-Heap\n",
    "    # Range(Floored Half of Length, min value is -1, decrements by -1)\n",
    "    for i in range(length//2 - 1, -1, -1):\n",
    "        Heapify(array, length, i)\n",
    "    \n",
    "    # Range(Length -1, min value is 0, decrements by -1)\n",
    "    for i in range(length - 1, 0, -1):\n",
    "        array[i], array[0] = array[0], array[i] # push start of array to the end of array\n",
    "        \n",
    "        Heapify(array, i, 0) # resort start of array\n",
    "        \n",
    "## Variable Input\n",
    "print(\"Please Input Integers:\")\n",
    "arr = input().split(\" \")\n",
    "n = len(arr)\n",
    "\n",
    "# Convert Array<String> to Array<Int>\n",
    "for i in range(n):\n",
    "    arr[i] = int(arr[i])\n",
    "\n",
    "# Perform Heap Sort on Array\n",
    "HeapSort(arr)\n",
    "\n",
    "# Print Sorted Array\n",
    "print(\"\\n\\nSorted array is:\")\n",
    "for i in range(n):\n",
    "    print(\"%d\" % arr[i], end=\" \")"
   ]
  },
  {
   "cell_type": "markdown",
   "id": "a0f426e4",
   "metadata": {},
   "source": [
    "In the code we have two main functions **Heapify, HeapSort**. **Heapify** performs the logic of sorting a **single parent node**, *parent* means that the node has *children*. This is done by comparing the values of the nodes and swapping the parent with the child if necessary\n",
    "\n",
    "      (7) - Head (non-leaf)\n",
    "     /  \\\n",
    "    (3) (4) - Children (leaf)\n",
    "    \n",
    "**HeapSort** implements **Heapify** twice, once to create our **Max-Heap** and a second time to invert the order of the sort. In order to create our **Max-Heap** we want to compare the parent nodes with their children to see if a swap needs to occur. To navigate to parent nodes we simply divide the total number of nodes (*in the case of a remainder we remove it* (**floor**)) in the heap and subtract by 1. This always leaves us with the right-most parent node. We then compare each parent node with their children which leaves us our **Max-Heap**. \n",
    "\n",
    "\n",
    "In order to convert this **Max-Heap** we swap the start node with the end node, and then **Heapify** the start node again. We then reduce the array size by 1 as to not overwrite our latest swap. Iterations of this would like the following:\n",
    "\n",
    "    8 7 6 4 3 1 => 1 7 6 4 3 8 => 7 1 6 4 3 8 => 7 6 1 4 3 / 8 [5]\n",
    "    ----------------------------------------------------------\n",
    "    7 6 1 4 3 => 3 6 1 4 7 => 6 3 1 4                      / 7 [4]\n",
    "    ----------------------------------------------------------\n",
    "    6 3 1 4 => 4 3 1                                       / 6 [3]\n",
    "    ----------------------------------------------------------\n",
    "    4 3 1 => 1 3 4 => 3 1                                  / 4 [2]\n",
    "    ----------------------------------------------------------\n",
    "    3 1 => 1                                               / 3 [1]\n",
    "    ----------------------------------------------------------\n",
    "    1 =>                                                   / 1 [0]\n",
    "\n",
    "As we can see the array we are left with is in ascending order, now you could say why dont we just use the max-heap and leave it there, in the demonstration I just provided it just so happened to end up with all values in descending order from the get go, this wont happen everytime and therefore it is necessary to perform our second heapify loop to provide the correct order as we swap the first and last bounded elements of the array. "
   ]
  },
  {
   "cell_type": "markdown",
   "id": "bd02e4b3",
   "metadata": {},
   "source": [
    "## Computational Complexity of Heap Sort"
   ]
  },
  {
   "cell_type": "code",
   "execution_count": null,
   "id": "ba811902",
   "metadata": {},
   "outputs": [],
   "source": [
    "What we mean by computational complexity"
   ]
  }
 ],
 "metadata": {
  "kernelspec": {
   "display_name": "Python 3 (ipykernel)",
   "language": "python",
   "name": "python3"
  },
  "language_info": {
   "codemirror_mode": {
    "name": "ipython",
    "version": 3
   },
   "file_extension": ".py",
   "mimetype": "text/x-python",
   "name": "python",
   "nbconvert_exporter": "python",
   "pygments_lexer": "ipython3",
   "version": "3.9.7"
  }
 },
 "nbformat": 4,
 "nbformat_minor": 5
}
