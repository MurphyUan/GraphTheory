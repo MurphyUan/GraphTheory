{
 "cells": [
  {
   "cell_type": "markdown",
   "id": "0b730e9b",
   "metadata": {},
   "source": [
    "## Explanantion of the Heap Sort Algorithm"
   ]
  },
  {
   "attachments": {},
   "cell_type": "markdown",
   "id": "8a902a4f",
   "metadata": {},
   "source": [
    "The Heap Sort Algorithm is a comparative sorting technique, where we take an *array* of information we want to be stored \n",
    "and we sort based on *min-max* values of said array. To do this we will first want to arrange our array as a Binary Heap Tree\n",
    "\n",
    "For Demonstration purposes our array will be : 4 8 6 7 3 1\n",
    "    \n",
    "As a **Binary Heap Tree (BHP)** of the array looks like the following:\n",
    "\n",
    "          4(0)\n",
    "         /     \\\n",
    "       8(1)    6(2)\n",
    "      /     \\     \\   \n",
    "    7(3)   3(4)   1(5)\n",
    "\n",
    "Now to Heap Sort this **BHP** we want to first get the max-heap of this array. What do I mean by this, I want the array so \n",
    "that its parent node is *greater than* its subsequent child nodes, Like the following:\n",
    "    \n",
    "           8(0)\n",
    "         /     \\\n",
    "       7(1)    6(2)\n",
    "      /     \\     \\   \n",
    "    4(3)   3(4)   1(5)\n",
    "\n",
    "To do this we recursively compare the child node to its parent and we swap the nodes if the *child is greater than the parent*.\n",
    "If there is any change in the *parent* nodes than we perform the action again from the beginning. When *no change occurs* we assume that the node at the head of the **BHP** is the largest node in the **Heap**, We pop that node off the list and try again until there are no nodes left on the Heap. We are then left with an *array of nodes* that are sorted from lowest to highest\n",
    " "
   ]
  },
  {
   "cell_type": "markdown",
   "id": "34fd2b19",
   "metadata": {},
   "source": [
    "## Python Implementation of Heap Sort"
   ]
  },
  {
   "cell_type": "code",
   "execution_count": 23,
   "id": "f5a44195",
   "metadata": {},
   "outputs": [
    {
     "name": "stdout",
     "output_type": "stream",
     "text": [
      "Unsorted array is:\n",
      "4 8 6 7 3 1 \n",
      "\n",
      "Sorted array is:\n",
      "1 3 4 6 7 8 "
     ]
    }
   ],
   "source": [
    "## Compare Children of Node And Make Swaps Where Necessary, repeats until no changes can be made\n",
    "## Heapify(Array to be sorted, length of the Array, location of Head node)\n",
    "def Heapify(array, length, location):\n",
    "    head = location\n",
    "    leftChild = 2 * location + 1 # Left Child of Head\n",
    "    rightChild = 2 * location + 2 # Right Child of Head\n",
    "    \n",
    "    # If Left Child is within array and is greater than Head node\n",
    "    if leftChild < length and arr[head] < arr[leftChild]:\n",
    "        # Declare Child as Head\n",
    "        head = leftChild\n",
    "    \n",
    "    # If Right Child is within array and is greater than Head node\n",
    "    if rightChild < length and arr[head] < arr[rightChild]:\n",
    "        # Declare Child as Head\n",
    "        head = rightChild\n",
    "    \n",
    "    # If Head has changed swap saved head with new head\n",
    "    if head != location:\n",
    "        array[location], array[head] = array[head], array[location]\n",
    "        \n",
    "        # Recursion, 'Do it Again'\n",
    "        Heapify(array, length, head)\n",
    "\n",
    "def HeapSort(array):\n",
    "    length = len(array)\n",
    "    \n",
    "    # Perform Heapify to Make Max-Heap\n",
    "    # Range(Floored Half of Length, min value is -1, decrements by -1)\n",
    "    for i in range(length//2 - 1, -1, -1):\n",
    "        Heapify(array, length, i)\n",
    "    \n",
    "    # Range(Length -1, min value is 0, decrements by -1)\n",
    "    for i in range(length - 1, 0, -1):\n",
    "        array[i], array[0] = array[0], array[i] # push start of array to the end of array\n",
    "        \n",
    "        Heapify(array, i, 0) # resort start of array\n",
    "        \n",
    "arr = [4, 8, 6, 7, 3, 1]\n",
    "n = len(arr)\n",
    "\n",
    "# Print Unsorted Array\n",
    "print(\"Unsorted array is:\")\n",
    "for i in range(n):\n",
    "    print(\"%d\" % arr[i], end = \" \")\n",
    "\n",
    "# Perform Heap Sort on Array\n",
    "HeapSort(arr)\n",
    "\n",
    "# Print Sorted Array\n",
    "print(\"\\n\\nSorted array is:\")\n",
    "for i in range(n):\n",
    "    print(\"%d\" % arr[i], end=\" \")"
   ]
  },
  {
   "cell_type": "markdown",
   "id": "2a0c14d6",
   "metadata": {},
   "source": [
    "In the code we have two main functions **Heapify, HeapSort**. **Heapify** performs the logic of sorting a **single parent node**, *parent* means that the node has *children*. This is done by comparing the values of the nodes and swapping the parent with the child if necessary\n",
    "\n",
    "      (7) - Head (non-leaf)\n",
    "     /  \\\n",
    "    (3) (4) - Children (leaf)\n",
    "    \n",
    "**HeapSort** implements **Heapify** twice, once to create our **Max-Heap** and a second time to invert the order of the sort. In order to create our **Max-Heap** we want to compare the parent nodes with their children to see if a swap needs to occur. To navigate to parent nodes we simply divide the total number of nodes (*in the case of a remainder we remove it* (**floor**)) in the heap and subtract by 1. This always leaves us with the right-most parent node. We then compare each parent node with their children which leaves us our **Max-Heap**. \n",
    "In order to convert this **Max-Heap** we swap the start node with the end node, and then **Heapify** the start node again. We then reduce the array size by 1 as to not overwrite our latest swap. Iterations of this would like the following:\n",
    "\n",
    "    8 7 6 4 3 1 => 1 7 6 4 3 8 => 7 1 6 4 3 8 => 7 6 1 4 3 / 8 [5]\n",
    "    ----------------------------------------------------------\n",
    "    7 6 1 4 3 => 3 6 1 4 7 => 6 3 1 4                      / 7 [4]\n",
    "    ----------------------------------------------------------\n",
    "    6 3 1 4 => 4 3 1                                       / 6 [3]\n",
    "    ----------------------------------------------------------\n",
    "    4 3 1 => 1 3 4 => 3 1                                  / 4 [2]\n",
    "    ----------------------------------------------------------\n",
    "    3 1 => 1                                               / 3 [1]\n",
    "    ----------------------------------------------------------\n",
    "    1 =>                                                   / 1 [0]\n",
    "\n",
    "As we can see the array we are left with is in ascending order, now you could say why dont we just use the max-heap and leave it there, in the demonstration I just provided it just so happened to end up with all values in descending order from the get go, this wont happen everytime and therefore it is necessary to perform our second heapify loop to make sure everything is in correct order. "
   ]
  },
  {
   "cell_type": "code",
   "execution_count": null,
   "id": "e03504a0",
   "metadata": {},
   "outputs": [],
   "source": []
  }
 ],
 "metadata": {
  "kernelspec": {
   "display_name": "Python 3 (ipykernel)",
   "language": "python",
   "name": "python3"
  },
  "language_info": {
   "codemirror_mode": {
    "name": "ipython",
    "version": 3
   },
   "file_extension": ".py",
   "mimetype": "text/x-python",
   "name": "python",
   "nbconvert_exporter": "python",
   "pygments_lexer": "ipython3",
   "version": "3.9.7"
  }
 },
 "nbformat": 4,
 "nbformat_minor": 5
}
