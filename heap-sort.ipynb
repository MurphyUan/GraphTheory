{
 "cells": [
  {
   "cell_type": "code",
   "execution_count": 2,
   "id": "5f639036",
   "metadata": {},
   "outputs": [],
   "source": [
    "# Explanantion of the Heap Sort Algorithm"
   ]
  },
  {
   "cell_type": "code",
   "execution_count": null,
   "id": "da385178",
   "metadata": {},
   "outputs": [],
   "source": [
    "## What is the Heap Sort Algorithm"
   ]
  },
  {
   "cell_type": "code",
   "execution_count": null,
   "id": "fdaca648",
   "metadata": {},
   "outputs": [],
   "source": [
    "The Heap Sort Algorithm is a comparative sorting technique, where we take an *array* of information we want to stored \n",
    "and we sort based on *min-max* values of said array. In this example we will *get* the largest **Integer**, to do this\n",
    "we will start with the first node and we will compare it too each node in sequence until either we find a larger node \n",
    "or we reach the end of the array naming this **Integer** as the largest Int, in which case we drop it at the end of \n",
    "the array and temporarily decrease the length of the array. If we find an Integer thats larger than the current Integer,\n",
    "we will swap the two Integers and continue along the array."
   ]
  },
  {
   "cell_type": "code",
   "execution_count": null,
   "id": "2e43c35c",
   "metadata": {},
   "outputs": [],
   "source": [
    "Now that was a lot of information for posterities sake lets slow that down. Lets take an Array of 5 Integers and we will \n",
    "manually sort them in order of magnitude.\n",
    "\n",
    "Array: 2, 6, 10, 8, 4\n",
    "    \n",
    "As we can see from the get go they are not in ascending order, they are very much jumbled about the place, So lets begin\n",
    "sorting. Lets start with 2 and compare it with the next Integer in the array\n",
    "\n",
    "2 > 6\n",
    "|\n",
    "6   10   8   4\n",
    "\n",
    "As we can see 2 is indeed not greater than 6, lets swap 2 and 6 and continue. This will continue until we find the largest\n",
    "Integer\n",
    "\n",
    "    6 > 10\n",
    "    |\n",
    "2   10   8   4\n",
    "\n"
   ]
  }
 ],
 "metadata": {
  "kernelspec": {
   "display_name": "Python 3 (ipykernel)",
   "language": "python",
   "name": "python3"
  },
  "language_info": {
   "codemirror_mode": {
    "name": "ipython",
    "version": 3
   },
   "file_extension": ".py",
   "mimetype": "text/x-python",
   "name": "python",
   "nbconvert_exporter": "python",
   "pygments_lexer": "ipython3",
   "version": "3.9.7"
  }
 },
 "nbformat": 4,
 "nbformat_minor": 5
}
