{
 "cells": [
  {
   "cell_type": "markdown",
   "id": "295af8b6",
   "metadata": {},
   "source": [
    "## Explanantion of the Heap Sort Algorithm"
   ]
  },
  {
   "cell_type": "markdown",
   "id": "389583c8",
   "metadata": {},
   "source": [
    "The **HeapSort** algorithm is a *comparative sorting technique*, This algorithm uses **heaps** which is a *specialized tree-based data structure*. These trees must satisfy a *heap property* such as **max-heap** or **min-heap**. The node at the *beginning of the heap* (has no parent) is called the **root node**. \n",
    "\n",
    "##### What is a max-heap ?\n",
    "In a **max-heap** for any given node B, which has a \n",
    "parent A, then the value of A must be greater than or equal to value of B.\n",
    "\n",
    "##### What is a min-heap ?\n",
    "The opposite can be said for a **min-heap** where the value of parent A must be less than or equal to the value of child B. \n",
    "\n",
    "##### What is the importance of a root node ? \n",
    "This node is the first node in the sequence of the array. This will be our main location for sorting the array\n",
    "\n",
    "##### Why are heaps used in the heapsort algorithm ?\n",
    "\n",
    "The implentation of *heaps* used inside our HeapSort alrgorithm will be the **binary-heap**. This adds an extra important rule to our tree structure which allows a parent node to only have **2 direct children**, This makes the tree structure more predictable and helps with computation.\n",
    "\n",
    "##### What does a Binary-Heap look like ?\n",
    "\n",
    "For Demonstration purposes we will take the following array and convert it into a **binary-heap**: *4 8 6 7 3 1*, \n",
    "Our heap strucuture will look like the following:\n",
    "```\n",
    "        no-heap                 max-heap                min-heap\n",
    "           4           |           8           |           1\n",
    "          / \\          |          / \\          |          / \\\n",
    "         8   6         |         7   6         |         4   3\n",
    "        / \\   \\        |        / \\   \\        |        / \\   \\\n",
    "       7   3   1       |       4   3   1       |       8   7   6\n",
    "```\n",
    "\n",
    "##### How does this Heap-Sort actually work ?\n",
    "\n",
    "A heap-sort is performed as follows we get an array of n length, we get each parent node of the array and we check to see if one of its children is greater than itself, if neither child is greater than the parent then no change should be made. However, when a change should be made we swap the child with the parent and then the parents new children to see if a change needs to be made, this process is called **heapify**. When no more changes can be made we have converted our array into a **max-heap**, we then take this max-heap and we swap the last node with the first node, after this reduce the alterable size of the array by 1. We then repeat the last two steps until we are left alterable spaces.\n",
    "\n",
    "> 1. Get Array Length $N$\n",
    "> 2. Find Last Parent Node in Array\n",
    "> 3. Compare Parent Node with Children\n",
    ">   * Check if first child is greater than parent\n",
    ">       * Make Swap\n",
    ">   * Check if second child is greater than parent\n",
    ">       * Make Swap\n",
    ">   * If no changes were made continue else repeat\n",
    "> 4. Move to Next Node\n",
    "> 5. Repeat Steps 3, 4 until we exhaust all parents\n",
    "> 6. Swap first and last node\n",
    "> 7. Reduce alterable size of array by 1\n",
    "> 8. Repeat Steps 3 (Head Node), 6, 7 until there \n",
    ">are no alterable spaces remaining\n",
    "\n",
    "       \n",
    "##### How do we know the children of each node ?\n",
    "\n",
    "As arrays they both look like the following \n",
    "\n",
    "```\n",
    "    no-heap = [4, 8, 6, 7, 3, 1]\n",
    "    max-heap = [8, 7, 6, 4, 3, 1]\n",
    "    min-heap = [1, 4, 3, 8, 7, 6]\n",
    "```\n",
    "\n",
    "In most if not all programming languages arrays store nodes with a location and a value, for example in our max-heap array the node 8 will have 0 as its location as its the head node. In order to find the children of the parent nodes we use these equations\n",
    "\n",
    "$$c_1 = 2 cx + 1$$\n",
    "$$c_2 = 2 cx + 2$$\n",
    " \n",
    "Where $c_1$ and $c_2$ are the locations of the two children and $cx$ is the location of the parent node. As you can see we are multiplying the parent node location by two. This is because of our binary-heap, we only ever want a parent to have at maximum 2 children, this will mostly result in two paths from any parent node. \n",
    "\n",
    "For Reference if wanted to see the 1st child of the parent node 7 its location is 1 so we say the following $$c_1 = 2 (1) + 1$$ $$c_1 = 2 + 1$$ $$c_1 = 3$$ Which if we look above the value at $c1 = 3$ is $4$ which is correct in our **max-heap binary-tree** in the previous question. \n",
    "\n",
    "###### How do I find only the parent nodes ?\n",
    "That is an amazing question, in order to find only the parent nodes we are gonna do some math wizardry. The answer stems from our general understanding of *binary-trees* each node can have 0, 1 or 2 child(ren). However two nodes must be assigned to each parent node of the current row before we create another row of nodes. If you look at the following example:\n",
    "\n",
    "![Trees.png](https://github.com/MurphyUan/GraphTheory/blob/main/HeapSortImages/Trees.png \"Example\")\n",
    "\n",
    "You can see that we arent truly assigning each parent node children, its more they fall into place until they are sorted. As we add new nodes to the array they will fill up each row twice the number of the last. 1, 2, 4, 8, 16 .... \n",
    "\n",
    "So lets say we had an array of 85 elements and we wanted to find the last parent node what would we do, if each sequent row is double the amount of the last cant we say that if we halved the total number or nodes that we should end up on the last parent node that is almost correct, because we start with 1 node and that nodes location is zero we also need to subtract our result by one to reflect the position, but wait the total number of elements is an odd number this which will leave a remainder. Easy just get rid of the remainder we are only looking for whole numbers. The Equation to Reflect this is simply:\n",
    "\n",
    "$${x} = ⌊ \\frac{n}{2} ⌋ - 1$$\n",
    "\n",
    "$x$ is the location of the last parent node, $n$ is the total number of nodes and $⌊ ⌋$ removes the remainder from $\\frac{n}{2}$."
   ]
  },
  {
   "cell_type": "markdown",
   "id": "7021e240",
   "metadata": {},
   "source": [
    "## Python Implementation of Heap Sort"
   ]
  },
  {
   "cell_type": "code",
   "execution_count": 1,
   "id": "150e5aeb",
   "metadata": {},
   "outputs": [
    {
     "name": "stdout",
     "output_type": "stream",
     "text": [
      "Please Input Integers:\n",
      "4 7 8 3 1 6\n",
      "\n",
      "\n",
      "Sorted array is:\n",
      "1 3 4 6 7 8 "
     ]
    }
   ],
   "source": [
    "## Compare Children of Node And Make Swaps Where Necessary, repeats until no changes can be made\n",
    "## Heapify(Array to be sorted, length of the Array, location of Head node) - Max Heap\n",
    "def Heapify(array, length, location):\n",
    "    head = location\n",
    "    firstChild = 2 * location + 1 # Left Child of Head\n",
    "    secondChild = 2 * location + 2 # Right Child of Head\n",
    "    \n",
    "    # If Left Child is within array and is greater than Head node\n",
    "    if firstChild < length and arr[head] < arr[firstChild]:\n",
    "        # Declare Child as Head\n",
    "        head = firstChild\n",
    "    \n",
    "    # If Right Child is within array and is greater than Head node\n",
    "    if secondChild < length and arr[head] < arr[secondChild]:\n",
    "        # Declare Child as Head\n",
    "        head = secondChild\n",
    "    \n",
    "    # If Head has changed swap saved head with new head\n",
    "    if head != location:\n",
    "        array[location], array[head] = array[head], array[location]\n",
    "        \n",
    "        # Recursion, 'Do it Again but at the location of the child'\n",
    "        Heapify(array, length, head)\n",
    "\n",
    "## Uses Max-Heap to Sort Array\n",
    "def HeapSort(array):\n",
    "    length = len(array)\n",
    "    \n",
    "    # Perform Heapify to Make Max-Heap\n",
    "    # Range(Floored Half of Length, min value is -1, decrements by -1)\n",
    "    for i in range(length//2 - 1, -1, -1):\n",
    "        Heapify(array, length, i)\n",
    "    \n",
    "    # Range(Length -1, min value is 0, decrements by -1)\n",
    "    for i in range(length - 1, 0, -1):\n",
    "        array[i], array[0] = array[0], array[i] # push start of array to the end of array\n",
    "        \n",
    "        Heapify(array, i, 0) # resort start of array\n",
    "\n",
    "## Variable Input\n",
    "print(\"Please Input Integers:\")\n",
    "arr = input().split(\" \")\n",
    "n = len(arr)\n",
    "\n",
    "# Convert Array<String> to Array<Int>\n",
    "for i in range(n):\n",
    "    arr[i] = int(arr[i])\n",
    "\n",
    "# Perform Heap Sort on Array\n",
    "HeapSort(arr)\n",
    "\n",
    "# Print Sorted Array\n",
    "print(\"\\n\\nSorted array is:\")\n",
    "for i in range(n):\n",
    "    print(\"%d\" % arr[i], end=\" \")"
   ]
  },
  {
   "cell_type": "markdown",
   "id": "394efc33",
   "metadata": {},
   "source": [
    "## Computational Complexity of Heap Sort"
   ]
  },
  {
   "cell_type": "markdown",
   "id": "b9431614",
   "metadata": {},
   "source": [
    "##### What is Computation Complexity ?\n",
    "Computation complexity is the *standard* for measuring the *requirements of an algorithm* in computer science, the key aspects of measuring the requirements are **time and space**. **Time** refering to the time taken for the algorithm to fully complete, and **space** meaning both the resources to complete the algorithm (CPU Time) and the memory need for storage. \n",
    "\n",
    "Although it sounds very complex its very simple, we take the worst case scenario for the elements required to run the algorithm and generalise everything in terms of $N$ the size of our input. In this case we will use **Big O Notation** to measure the computation complexity, a good reference that I took a lot of inspiration from is [this blog by Mai Pham](https://medium.com/nerd-for-tech/the-big-o-18fea712ae6b \"The Big O by Mai Pham\") or this [post by Humam Alraja](https://towardsdatascience.com/logarithms-exponents-in-complexity-analysis-b8071979e847#:~:text=Logarithmic%20time%20complexity%20log(n,of%20operations%20grows%20very%20slowly. \"Logarithms and Exponents in Complexity Analysis by Humam Alraja\"). In these posts, our authors describes 3 aspects that we will use in order to calculate the computation complexity of our algorithm these are **constant, linear and logarithmic complexity**.\n",
    "\n",
    "##### How does the computational complexity affect HeapSort ?\n",
    "\n",
    "This measure does not affect our algorithm at all, we dont need to add anything extra to calculate the computational complexity of heap-sort, rather this will give us estimations on the running time and memory to allocate to our heap-sort when implementing it. Now it is easier to measure this once the program has been written to perform the algorithm as we can look precisely at the operations made to the array. But before we do that lets explain **constant complexity, linear complexity and logarithmic**. \n",
    "\n",
    "**Constant Complexity** is an operation that will always take a certain amount of time regardless of the input size, we denote this as 0(1) time."
   ]
  },
  {
   "cell_type": "code",
   "execution_count": 2,
   "id": "8eb08977",
   "metadata": {},
   "outputs": [
    {
     "name": "stdout",
     "output_type": "stream",
     "text": [
      "Answer: 25\n",
      "Steps: 1\n"
     ]
    }
   ],
   "source": [
    "def square(x, step):\n",
    "    step += 1\n",
    "    return x * x, step\n",
    "    \n",
    "result, steps = square(5, 0)\n",
    "print(\"Answer: %d\" % result)\n",
    "print(\"Steps: %d\" % steps)"
   ]
  },
  {
   "cell_type": "markdown",
   "id": "36b00051",
   "metadata": {},
   "source": [
    "**Linear Complexity** is an operation that visits each element in the input size, the time taken and the resources used increases as our input size grows linearly we denote this as 0(n) time."
   ]
  },
  {
   "cell_type": "code",
   "execution_count": 5,
   "id": "1518d766",
   "metadata": {},
   "outputs": [
    {
     "name": "stdout",
     "output_type": "stream",
     "text": [
      "Answer: 15\n",
      "Steps: 5\n"
     ]
    }
   ],
   "source": [
    "def sumTotal(arr, steps):\n",
    "    sum = 0\n",
    "    for x in range(len(arr)):\n",
    "        steps += 1\n",
    "        sum = sum + arr[x]\n",
    "    return sum, steps\n",
    "    \n",
    "result, steps = sumTotal([1,2,3,4,5], 0)\n",
    "print(\"Answer: %d\" % result)\n",
    "print(\"Steps: %d\" % steps)"
   ]
  },
  {
   "cell_type": "markdown",
   "id": "c9b08a05",
   "metadata": {},
   "source": [
    "**Logarithmic Complexity** is an operation that grows slowly as the input size increase, as an example lets say I wanted to find an arbitrary value in an input size of n elements however I was only told if my guess was too high or too low, I could take it linearly and guess every element of n. Alternatively I could take half the input size make a guess and itll tell me whether I'm too high or too low, I then divide that guess in half or increase it by half based on that result, I do this until my sample runs out and I have the correct answer. We denote this as 0(logn) time."
   ]
  },
  {
   "cell_type": "code",
   "execution_count": null,
   "id": "dae8c7a0",
   "metadata": {},
   "outputs": [],
   "source": [
    "def guessing(total, guess, answer, step):\n",
    "    step += 1\n",
    "    nGuess = guess//2\n",
    "    if(guess == answer):\n",
    "        print(\"Found answer: %d\\nSteps: %d\" % (answer, step))\n",
    "    if(guess < answer):\n",
    "        guessing(total, guess + nGuess, answer, step)\n",
    "    if(guess > answer):\n",
    "        guessing(total, nGuess, answer, step)\n",
    "\n",
    "total, answer = 1024, 523\n",
    "guessing(total, total//2, answer, 0)"
   ]
  },
  {
   "cell_type": "markdown",
   "id": "6f7254d0",
   "metadata": {},
   "source": [
    "##### What is the worst case scenario of running our HeapSort algorithm, in terms of computational complexity ?\n",
    "\n",
    "Lets assume we have a total of $N$ elements in our array, in order to perform our heap-sort we need a max-heap and then heapify each element after our max-heap has been made. Because, heapify calls itself we need to be careful about the order of operations in the function.\n",
    "\n",
    "```python\n",
    "def Heapify(array, length, location):\n",
    "    head = location\n",
    "    firstChild = 2 * location + 1 # Left Child of Head\n",
    "    secondChild = 2 * location + 2 # Right Child of Head\n",
    "    \n",
    "    # If Left Child is within array and is greater than Head node\n",
    "    if firstChild < length and arr[head] < arr[firstChild]:\n",
    "        # Declare Child as Head\n",
    "        head = firstChild\n",
    "    \n",
    "    # If Right Child is within array and is greater than Head node\n",
    "    if secondChild < length and arr[head] < arr[secondChild]:\n",
    "        # Declare Child as Head\n",
    "        head = secondChild\n",
    "    \n",
    "    # If Head has changed swap saved head with new head\n",
    "    if head != location:\n",
    "        array[location], array[head] = array[head], array[location]\n",
    "        \n",
    "        # Recursion, 'Do it Again but at the location of the child'\n",
    "        Heapify(array, length, head)\n",
    "```\n",
    "\n",
    "For each of these if statements we can say that are completed in constant time 0(1) as they always take a certain amount of time and do not rely on the input size. However, the final if statment has a recursive callback this redo's the entire function at the location of the head node after the swap happens, the tree has a height of $n = log_2(n)$. So no matter what the maximum times this function can be called is equal to the height of the tree, as we look at worst case scenarios the running time of this heapify function is $log(n)$ time. \n",
    "```python\n",
    "def HeapSort(array):\n",
    "    length = len(array)\n",
    "    \n",
    "    # Perform Heapify to Make Max-Heap\n",
    "    # Range(Floored Half of Length, min value is -1, decrements by -1)\n",
    "    for i in range(length//2 - 1, -1, -1):\n",
    "        Heapify(array, length, i)\n",
    "    \n",
    "    # Range(Length -1, min value is 0, decrements by -1)\n",
    "    for i in range(length - 1, 0, -1):\n",
    "        array[i], array[0] = array[0], array[i] # push start of array to the end of array\n",
    "        \n",
    "        Heapify(array, i, 0) # resort start of array\n",
    "```\n",
    "Our Heapsort algorithm uses heapify twice however they are used in a linear fashion, meaning in the second for loop we look at each element in the array and we call our heapify function which combines linear complexity and logarithmic complexity to make the worst case scenraio for our running time to be $$Nlog(N)$$"
   ]
  },
  {
   "cell_type": "markdown",
   "id": "05e91a4b",
   "metadata": {},
   "source": [
    "## Importance of Graph Theory in Heap Sort"
   ]
  },
  {
   "cell_type": "markdown",
   "id": "cf781a12",
   "metadata": {},
   "source": [
    "##### What is Graph Theory\n",
    "Graph Theory is the study of graphs which are structures that model relations between objects, A Graph is made up of vertices (aka nodes) which are connected by edges (aka branches). There are two key distinctions made in graphs and that is whether or not they are **undirected** or **directed** graphs. **undirected graphs** have branches that connect nodes symmetrically which means that a relation goes both ways, while **directed graphs** have branches that connect nodes asymmetrically. This means that a node might have a relation to another node but the related node does not have to be related to the first node\n",
    "\n",
    "**Directed Graph:** $$(x_1,y_1)=(x_2,y_2)$$ $$(x_2,y_2)\\neq (x_1,y_1)$$ \n",
    "**UnDirected Graph:** $$(x_1,y_1)=(x_2,y_2)$$ $$(x_2,y_2)=(x_1,y_1)$$\n",
    "\n",
    "##### How is Graph Theory used in Heap Sort\n",
    "Our Heap is a Binary Heap Tree Structure which inherits from Graph Structures as there are relations between the nodes, each element in our array that we want sorted is \"converted\" to a node which have connection / branches to child nodes. \n",
    "\n",
    "Our Array of $N$ elements is never transmuted into a node structure in the sense of making specific objects out of the values, instead we explore graph theory to estimate locations of nodes based on our understanding of how tree graphs / directed graphs function. \n",
    "\n",
    "**Operation to calculate location of nth child of node:**$$y = c_{max} x + n$$\n",
    "**Operation to find last parent node:**$${y} = ⌊ \\frac{n}{c_{max}} ⌋ - 1$$\n",
    "\n",
    "Both of these operations would not be apparent without the understanding of graphs and tree node structures. Of course our tree node structures are in binary and are easily calculated however, as provided in these new operations $c_{max}$ reflects the maximal number of children so operations could be potentially faster. "
   ]
  },
  {
   "cell_type": "code",
   "execution_count": null,
   "id": "640eda6f",
   "metadata": {},
   "outputs": [],
   "source": []
  }
 ],
 "metadata": {
  "kernelspec": {
   "display_name": "Python 3 (ipykernel)",
   "language": "python",
   "name": "python3"
  },
  "language_info": {
   "codemirror_mode": {
    "name": "ipython",
    "version": 3
   },
   "file_extension": ".py",
   "mimetype": "text/x-python",
   "name": "python",
   "nbconvert_exporter": "python",
   "pygments_lexer": "ipython3",
   "version": "3.9.7"
  }
 },
 "nbformat": 4,
 "nbformat_minor": 5
}
