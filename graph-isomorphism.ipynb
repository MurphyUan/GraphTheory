{
 "cells": [
  {
   "cell_type": "markdown",
   "id": "476fa534",
   "metadata": {},
   "source": [
    "## Explanation of the Graph Isomorphism Problem\n",
    "***"
   ]
  },
  {
   "cell_type": "markdown",
   "id": "c8ded2b5",
   "metadata": {},
   "source": [
    "The Graph Isomorphism Problem determines whether two finite graphs are isomorphic. When two graphs are isomorphic the sets of elements are identical, also refered to as a bijection. This requires that are no unpaired elements in either set (Surjective) and that elements from one Graph are not paired with the same element (Injective). \n",
    "\n",
    "Take the Graphs G & H, G has elements $1$, $2$, $3$ and H has elements $A$, $B$ and $C$. These Graphs look as follows: "
   ]
  },
  {
   "cell_type": "markdown",
   "id": "6dcafd04",
   "metadata": {},
   "source": [
    "```\n",
    "                                            Graph G             Graph H\n",
    "                                                        \n",
    "                                                        |        A\n",
    "                                                        |      /\n",
    "                                       1 --- 2 --- 3    |    B\n",
    "                                                        |      \\\n",
    "                                                        |        C\n",
    "```"
   ]
  },
  {
   "cell_type": "markdown",
   "id": "8f483b76",
   "metadata": {},
   "source": [
    "Now you wouldn't say they are identical as the elements have different naming schemes and they are both shaped differently. However, These Graphs would be Isomorphisc , this is because if we matched each node with its corresponding pair they would be somewhat that same, in the sense that the number of nodes and edges would be equal and the connected nodes from those edges would be equal as well. Both nodes $2$ and $B$ have two neighbours $2$ has $1$ and $3$, while $B$ has $A$ and $C$. \n",
    "\n",
    "Now our problem is when we are attempting to check for larger and larger graph's, how do we accurately know whether or not two graphs are isomorphic. To do this we must check if each node in Graph G has a corresponding node in Graph H, with the reverse also being true, and that each edge in Graph G has a corresponding edge in Graph H."
   ]
  },
  {
   "cell_type": "markdown",
   "id": "35cb86b9",
   "metadata": {},
   "source": [
    "```\n",
    "\n",
    "```"
   ]
  },
  {
   "cell_type": "markdown",
   "id": "d392c024",
   "metadata": {},
   "source": [
    "## How Graphs can be represented in data structures\n",
    "***"
   ]
  },
  {
   "cell_type": "markdown",
   "id": "47d17ac1",
   "metadata": {},
   "source": [
    "A Graph is a **collection of nodes and edges between each node**."
   ]
  },
  {
   "cell_type": "markdown",
   "id": "34a99ff2",
   "metadata": {},
   "source": [
    "## Implementation of Graph Isomorphism Between two Graphs\n",
    "***"
   ]
  },
  {
   "cell_type": "code",
   "execution_count": null,
   "id": "09c339dc",
   "metadata": {},
   "outputs": [],
   "source": []
  },
  {
   "cell_type": "markdown",
   "id": "0d74fb95",
   "metadata": {},
   "source": [
    "## Computation Complexity of Graph Isomorphism Problem\n",
    "***"
   ]
  },
  {
   "cell_type": "code",
   "execution_count": null,
   "id": "7246e200",
   "metadata": {},
   "outputs": [],
   "source": []
  },
  {
   "cell_type": "markdown",
   "id": "da50e3c4",
   "metadata": {},
   "source": [
    "## Further Research"
   ]
  },
  {
   "cell_type": "markdown",
   "id": "b67d11fe",
   "metadata": {},
   "source": [
    " - https://link.springer.com/content/pdf/10.1007/BF02104746.pdf (Combo Article by Zemlyachenko)\n",
    " - https://en.wikipedia.org/wiki/Graph_isomorphism_problem (Wiki Article)\n",
    " - https://www.youtube.com/watch?v=EwV4Puk2coU (Isomorphic graphs by Wrath of Math)"
   ]
  }
 ],
 "metadata": {
  "kernelspec": {
   "display_name": "Python 3 (ipykernel)",
   "language": "python",
   "name": "python3"
  },
  "language_info": {
   "codemirror_mode": {
    "name": "ipython",
    "version": 3
   },
   "file_extension": ".py",
   "mimetype": "text/x-python",
   "name": "python",
   "nbconvert_exporter": "python",
   "pygments_lexer": "ipython3",
   "version": "3.9.7"
  }
 },
 "nbformat": 4,
 "nbformat_minor": 5
}
