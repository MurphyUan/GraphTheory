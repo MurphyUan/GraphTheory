{
 "cells": [
  {
   "cell_type": "markdown",
   "id": "476fa534",
   "metadata": {},
   "source": [
    "## Explanation of the Graph Isomorphism Problem\n",
    "***"
   ]
  },
  {
   "cell_type": "markdown",
   "id": "c8ded2b5",
   "metadata": {},
   "source": [
    "The Graph Isomorphism Problem determines whether two finite graphs are isomorphic. When two graphs are isomorphic the sets of elements are identical. This requires that are no unpaired elements in either set, this is known as a Surjective property, and that elements from one Graph are not paired with the same element, this is known as an Injective property. When these properties are combined it is called a Bijective property.\n",
    "\n",
    "Take the Graphs G & H, G has elements $1$, $2$, $3$ and H has elements $A$, $B$ and $C$. These Graphs look as follows: "
   ]
  },
  {
   "cell_type": "markdown",
   "id": "6dcafd04",
   "metadata": {},
   "source": [
    "```\n",
    "                                            Graph G             Graph H\n",
    "                                                        \n",
    "                                                        |        A\n",
    "                                                        |      /\n",
    "                                       1 --- 2 --- 3    |    B\n",
    "                                                        |      \\\n",
    "                                                        |        C\n",
    "```"
   ]
  },
  {
   "cell_type": "markdown",
   "id": "8f483b76",
   "metadata": {},
   "source": [
    "Now you wouldn't say they are identical as the elements have different naming schemes and they are both shaped differently. However, These Graphs would be Isomorphisc , this is because if we matched each node with its corresponding pair they would be somewhat that same, in the sense that the number of nodes and edges would be equal and the connected nodes from those edges would be equal as well. Both nodes $2$ and $B$ have two neighbours $2$ has $1$ and $3$, while $B$ has $A$ and $C$. "
   ]
  },
  {
   "cell_type": "markdown",
   "id": "d392c024",
   "metadata": {},
   "source": [
    "## How Graphs can be represented in data structures\n",
    "***"
   ]
  },
  {
   "cell_type": "markdown",
   "id": "29de6ea7",
   "metadata": {},
   "source": [
    "Graphs can be represented using 3 main data structures: **adjacency matrixes, lists and sets**. "
   ]
  },
  {
   "cell_type": "markdown",
   "id": "47d17ac1",
   "metadata": {},
   "source": [
    "A **matrix** is a table with rows and columns, in an **adjacency matrix** is a square matrix where the number of rows, columns and nodes are equal where each row and column represents a single node. Each cell of this matrix represents an edge between two nodes, or in some cases itself."
   ]
  },
  {
   "cell_type": "markdown",
   "id": "a6c5a345",
   "metadata": {},
   "source": [
    "```\n",
    "                                                     A B C D\n",
    "                                                   A 0 0 1 1\n",
    "                                                   B 0 0 1 1\n",
    "                                                   C 1 1 0 0\n",
    "                                                   D 1 1 0 0\n",
    "```"
   ]
  },
  {
   "cell_type": "markdown",
   "id": "7a70e105",
   "metadata": {},
   "source": [
    "A **list** is an ordered collection of elements, in an **adjacency list** each element references a node, the node either contains data or a reference to a linked list, this linked list shows all adjacent nodes to the current node."
   ]
  },
  {
   "cell_type": "markdown",
   "id": "e16b510a",
   "metadata": {},
   "source": [
    "```\n",
    "                                                    A -> C -> D\n",
    "                                                    B -> C -> D\n",
    "                                                    C -> A -> B\n",
    "                                                    D -> A -> B\n",
    "```"
   ]
  },
  {
   "cell_type": "markdown",
   "id": "c786a401",
   "metadata": {},
   "source": [
    "A **Set** is an unordered collection of unique elements, an **adjacency set** is fairly similar to an **adjacency list** however, instead of a linked list; a set of adjacent nodes is provided."
   ]
  },
  {
   "cell_type": "markdown",
   "id": "df6d919a",
   "metadata": {},
   "source": [
    "```\n",
    "                                            {A:(C,D),B:(C,D),C:(A,B),D:(A,B)}\n",
    "```"
   ]
  },
  {
   "cell_type": "markdown",
   "id": "34a99ff2",
   "metadata": {},
   "source": [
    "## Implementation of Graph Isomorphism Between two Graphs\n",
    "***"
   ]
  },
  {
   "cell_type": "code",
   "execution_count": 33,
   "id": "09c339dc",
   "metadata": {},
   "outputs": [],
   "source": [
    "import random\n",
    "\n",
    "def randomPermutation(n):\n",
    "    L = list(range(n))\n",
    "    random.shuffle(L)\n",
    "    return L\n",
    "\n",
    "def makePermutationFunction(L):\n",
    "    return lambda i: L[i - 1] + 1\n",
    "\n",
    "def makeInversePermutationFunction(L):\n",
    "    return lambda i: 1 + L.index(i - 1)\n",
    "\n",
    "def applyIsomorphism(G, f):\n",
    "    return [(f(i), f(j)) for (i, j) in G]"
   ]
  },
  {
   "cell_type": "code",
   "execution_count": 34,
   "id": "fb45cb31",
   "metadata": {},
   "outputs": [],
   "source": [
    "class Prover(object):\n",
    "    def __init__(self, G1, G2, isomorphism):\n",
    "        \n",
    "        self.G1 = G1\n",
    "        self.G2 = G2\n",
    "        self.n = numVertices(G1)\n",
    "        assert self.n == numVertices(G2)\n",
    "        \n",
    "        self.isomorphism = isomorphism\n",
    "        self.state = None\n",
    "    \n",
    "    def sendIsomorphicCopy(self):\n",
    "        isomorphism = randomPermutation(self.n)\n",
    "        pi = makePermutationFunction(isomorphism)\n",
    "        \n",
    "        H = applyIsomorphism(self.G1, pi)\n",
    "        \n",
    "        self.state = isomorphism\n",
    "        return H\n",
    "    \n",
    "    def proveIsomorphicTo(self, graphChoice):\n",
    "        randomIsomorphism = self.state\n",
    "        piInverse = makeInversePermutationFunction(randomIsomorphism)\n",
    "        \n",
    "        if graphChoice == 1:\n",
    "            return piInverse\n",
    "        else:\n",
    "            f = makePermutationFunction(self.isomorphism)\n",
    "            return lambda i: f(piInverse(i))"
   ]
  },
  {
   "cell_type": "code",
   "execution_count": 35,
   "id": "9b25d6f9",
   "metadata": {},
   "outputs": [],
   "source": [
    "class Verifier(object):\n",
    "    def __init__(self, G1, G2):\n",
    "        self.G1 = G1\n",
    "        self.G2 = G2\n",
    "        self.n = numVertices(G1)\n",
    "        assert self.n == numVertices(G2)\n",
    "        \n",
    "    def chooseGraph(self, H):\n",
    "        choice = random.choice([1,2])\n",
    "        self.state = H, choice\n",
    "        return choice\n",
    "    \n",
    "    def accepts(self, isomorphism):\n",
    "        H, choice = self.state\n",
    "        graphToCheck = [self.G1, self.G2][choice - 1]\n",
    "        f = isomorphism\n",
    "        isValidIsomorphism = ( graphToCheck == applyIsomorphism(H, f))\n",
    "        return isValidIsomorphism"
   ]
  },
  {
   "cell_type": "code",
   "execution_count": null,
   "id": "357d9abc",
   "metadata": {},
   "outputs": [],
   "source": [
    "def runProtocol(G1, G2, isomorphism):\n",
    "    p = Prover(G1, G2, isomorphism)\n",
    "    v = Verifier(G1, G2)\n",
    "    \n",
    "    H = p.sendIsomorphicCopy()\n",
    "    choice = v.chooseGraph(H)\n",
    "    witnessIsomorphism = p.proveIsomorphicTo(choice)\n",
    "    \n",
    "    return v.accepts(witnessIsomorphism)"
   ]
  },
  {
   "cell_type": "markdown",
   "id": "0d74fb95",
   "metadata": {},
   "source": [
    "## Computation Complexity of Graph Isomorphism Problem\n",
    "***"
   ]
  },
  {
   "cell_type": "code",
   "execution_count": null,
   "id": "7246e200",
   "metadata": {},
   "outputs": [],
   "source": []
  },
  {
   "cell_type": "markdown",
   "id": "da50e3c4",
   "metadata": {},
   "source": [
    "## Further Research"
   ]
  },
  {
   "cell_type": "markdown",
   "id": "b67d11fe",
   "metadata": {},
   "source": [
    " - https://link.springer.com/content/pdf/10.1007/BF02104746.pdf (Combo Article by Zemlyachenko)\n",
    " - https://en.wikipedia.org/wiki/Graph_isomorphism_problem (Wiki Article)\n",
    " - https://www.youtube.com/watch?v=EwV4Puk2coU (Isomorphic graphs by Wrath of Math)\n",
    " - https://www.mygreatlearning.com/blog/representing-graphs-in-data-structures/#:~:text=A%20graph%20can%20be%20represented,the%20nodes%20of%20a%20graph. (Representing Graphs)\n",
    " - https://learnonline.gmit.ie/pluginfile.php/602802/mod_resource/content/1/sipser-math.pdf (Introduction to the Theory of Computing)\n",
    " - https://jeremykun.com/2016/07/05/zero-knowledge-proofs-a-primer/ (Zero-Knowledge Proof)"
   ]
  }
 ],
 "metadata": {
  "kernelspec": {
   "display_name": "Python 3 (ipykernel)",
   "language": "python",
   "name": "python3"
  },
  "language_info": {
   "codemirror_mode": {
    "name": "ipython",
    "version": 3
   },
   "file_extension": ".py",
   "mimetype": "text/x-python",
   "name": "python",
   "nbconvert_exporter": "python",
   "pygments_lexer": "ipython3",
   "version": "3.9.7"
  }
 },
 "nbformat": 4,
 "nbformat_minor": 5
}
